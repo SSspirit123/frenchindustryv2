{
 "cells": [
  {
   "cell_type": "code",
   "execution_count": 38,
   "id": "70a7c6c9",
   "metadata": {},
   "outputs": [],
   "source": [
    "#import du df\n",
    "import pandas as pd\n",
    "import numpy as np\n",
    "import pickle\n",
    "from sklearn.preprocessing import StandardScaler\n",
    "\n",
    "df = pd.read_csv('df_full_full_propcadre.csv')\n",
    "df.drop_duplicates(inplace=True)"
   ]
  },
  {
   "cell_type": "code",
   "execution_count": 39,
   "id": "95f3c3e2",
   "metadata": {},
   "outputs": [],
   "source": [
    "#transfo\n",
    "df.rename(columns = {'LIBGEO' : 'nom_commune'}, inplace = True)\n",
    "dfcad = pd.read_csv('prop_cadre.csv')\n",
    "dfcad.drop_duplicates(subset=[\"nom_commune\"], keep= 'first', inplace= True)\n",
    "dfcad1 = df.merge(dfcad, on = 'nom_commune', how = 'left')\n",
    "dfter = pd.read_csv('prop_tertiaire.csv')\n",
    "dfter.rename(columns = {'LIBGEO' : 'nom_commune'}, inplace = True)\n",
    "dfter.drop_duplicates(subset=[\"nom_commune\"], keep= 'first', inplace= True)\n",
    "dftot = dfcad1.merge(dfter, on = 'nom_commune', how = 'left')\n",
    "dftot.dropna(inplace = True)\n",
    "df = dftot\n",
    "df.DEP = df.DEP.replace(\"2A\",\"222\")\n",
    "df.DEP = df.DEP.replace(\"2B\",\"223\")\n",
    "df_debase = df\n",
    "df = df.drop(['nom_commune',\"CODGEO\",'nom_DEP','nom_REG','nom_commune',\"Departement\"],axis=1)\n",
    "df_debase = df_debase.drop(['nom_DEP','nom_REG',\"Departement\",'salaire_moyen'],axis=1)"
   ]
  },
  {
   "cell_type": "code",
   "execution_count": 40,
   "id": "6efff684",
   "metadata": {},
   "outputs": [],
   "source": [
    "#création des ensembles\n",
    "X = df.drop('salaire_moyen', axis=1) \n",
    "y = df['salaire_moyen']"
   ]
  },
  {
   "cell_type": "code",
   "execution_count": 7,
   "id": "41429ce3",
   "metadata": {},
   "outputs": [
    {
     "data": {
      "text/html": [
       "<style>#sk-container-id-1 {color: black;}#sk-container-id-1 pre{padding: 0;}#sk-container-id-1 div.sk-toggleable {background-color: white;}#sk-container-id-1 label.sk-toggleable__label {cursor: pointer;display: block;width: 100%;margin-bottom: 0;padding: 0.3em;box-sizing: border-box;text-align: center;}#sk-container-id-1 label.sk-toggleable__label-arrow:before {content: \"▸\";float: left;margin-right: 0.25em;color: #696969;}#sk-container-id-1 label.sk-toggleable__label-arrow:hover:before {color: black;}#sk-container-id-1 div.sk-estimator:hover label.sk-toggleable__label-arrow:before {color: black;}#sk-container-id-1 div.sk-toggleable__content {max-height: 0;max-width: 0;overflow: hidden;text-align: left;background-color: #f0f8ff;}#sk-container-id-1 div.sk-toggleable__content pre {margin: 0.2em;color: black;border-radius: 0.25em;background-color: #f0f8ff;}#sk-container-id-1 input.sk-toggleable__control:checked~div.sk-toggleable__content {max-height: 200px;max-width: 100%;overflow: auto;}#sk-container-id-1 input.sk-toggleable__control:checked~label.sk-toggleable__label-arrow:before {content: \"▾\";}#sk-container-id-1 div.sk-estimator input.sk-toggleable__control:checked~label.sk-toggleable__label {background-color: #d4ebff;}#sk-container-id-1 div.sk-label input.sk-toggleable__control:checked~label.sk-toggleable__label {background-color: #d4ebff;}#sk-container-id-1 input.sk-hidden--visually {border: 0;clip: rect(1px 1px 1px 1px);clip: rect(1px, 1px, 1px, 1px);height: 1px;margin: -1px;overflow: hidden;padding: 0;position: absolute;width: 1px;}#sk-container-id-1 div.sk-estimator {font-family: monospace;background-color: #f0f8ff;border: 1px dotted black;border-radius: 0.25em;box-sizing: border-box;margin-bottom: 0.5em;}#sk-container-id-1 div.sk-estimator:hover {background-color: #d4ebff;}#sk-container-id-1 div.sk-parallel-item::after {content: \"\";width: 100%;border-bottom: 1px solid gray;flex-grow: 1;}#sk-container-id-1 div.sk-label:hover label.sk-toggleable__label {background-color: #d4ebff;}#sk-container-id-1 div.sk-serial::before {content: \"\";position: absolute;border-left: 1px solid gray;box-sizing: border-box;top: 0;bottom: 0;left: 50%;z-index: 0;}#sk-container-id-1 div.sk-serial {display: flex;flex-direction: column;align-items: center;background-color: white;padding-right: 0.2em;padding-left: 0.2em;position: relative;}#sk-container-id-1 div.sk-item {position: relative;z-index: 1;}#sk-container-id-1 div.sk-parallel {display: flex;align-items: stretch;justify-content: center;background-color: white;position: relative;}#sk-container-id-1 div.sk-item::before, #sk-container-id-1 div.sk-parallel-item::before {content: \"\";position: absolute;border-left: 1px solid gray;box-sizing: border-box;top: 0;bottom: 0;left: 50%;z-index: -1;}#sk-container-id-1 div.sk-parallel-item {display: flex;flex-direction: column;z-index: 1;position: relative;background-color: white;}#sk-container-id-1 div.sk-parallel-item:first-child::after {align-self: flex-end;width: 50%;}#sk-container-id-1 div.sk-parallel-item:last-child::after {align-self: flex-start;width: 50%;}#sk-container-id-1 div.sk-parallel-item:only-child::after {width: 0;}#sk-container-id-1 div.sk-dashed-wrapped {border: 1px dashed gray;margin: 0 0.4em 0.5em 0.4em;box-sizing: border-box;padding-bottom: 0.4em;background-color: white;}#sk-container-id-1 div.sk-label label {font-family: monospace;font-weight: bold;display: inline-block;line-height: 1.2em;}#sk-container-id-1 div.sk-label-container {text-align: center;}#sk-container-id-1 div.sk-container {/* jupyter's `normalize.less` sets `[hidden] { display: none; }` but bootstrap.min.css set `[hidden] { display: none !important; }` so we also need the `!important` here to be able to override the default hidden behavior on the sphinx rendered scikit-learn.org. See: https://github.com/scikit-learn/scikit-learn/issues/21755 */display: inline-block !important;position: relative;}#sk-container-id-1 div.sk-text-repr-fallback {display: none;}</style><div id=\"sk-container-id-1\" class=\"sk-top-container\"><div class=\"sk-text-repr-fallback\"><pre>SVR(C=10)</pre><b>In a Jupyter environment, please rerun this cell to show the HTML representation or trust the notebook. <br />On GitHub, the HTML representation is unable to render, please try loading this page with nbviewer.org.</b></div><div class=\"sk-container\" hidden><div class=\"sk-item\"><div class=\"sk-estimator sk-toggleable\"><input class=\"sk-toggleable__control sk-hidden--visually\" id=\"sk-estimator-id-1\" type=\"checkbox\" checked><label for=\"sk-estimator-id-1\" class=\"sk-toggleable__label sk-toggleable__label-arrow\">SVR</label><div class=\"sk-toggleable__content\"><pre>SVR(C=10)</pre></div></div></div></div></div>"
      ],
      "text/plain": [
       "SVR(C=10)"
      ]
     },
     "execution_count": 7,
     "metadata": {},
     "output_type": "execute_result"
    }
   ],
   "source": [
    "#ENREGISTRER MON MODELE\n",
    "from sklearn.model_selection import train_test_split\n",
    "from sklearn.preprocessing import StandardScaler\n",
    "from sklearn.svm import SVR\n",
    "\n",
    "# Charger le jeu de données des iris\n",
    "X_train, X_test, y_train, y_test = train_test_split(X, y, test_size=0.25, random_state=32)\n",
    "\n",
    "scaler = StandardScaler()\n",
    "X_train_scaled = scaler.fit_transform(X_train)\n",
    "                                                    \n",
    "# Initialiser et entraîner le modèle\n",
    "svr = SVR(kernel='rbf', C=10, gamma='scale')\n",
    "svr.fit(X_train_scaled, y_train)"
   ]
  },
  {
   "cell_type": "code",
   "execution_count": 8,
   "id": "c3c17260",
   "metadata": {},
   "outputs": [],
   "source": [
    "#SAUVEGARDER LE MODELE DANS UN FICHIER\n",
    "import pickle\n",
    "\n",
    "# Sauvegarder le modèle dans un fichier\n",
    "with open('modele.pkl', 'wb') as fichier_modele:\n",
    "    pickle.dump(svr, fichier_modele)"
   ]
  },
  {
   "cell_type": "code",
   "execution_count": 41,
   "id": "6a1273b8",
   "metadata": {},
   "outputs": [],
   "source": [
    "#CHARGER LE MODELE\n",
    "import pickle\n",
    "\n",
    "def charger_modele():\n",
    "    # Charger le modèle à partir du fichier Pickle\n",
    "    with open('modele2.pkl', 'rb') as fichier_modele:\n",
    "        modele = pickle.load(fichier_modele)\n",
    "    return modele"
   ]
  },
  {
   "cell_type": "code",
   "execution_count": 48,
   "id": "24f79f23",
   "metadata": {
    "scrolled": false
   },
   "outputs": [
    {
     "name": "stderr",
     "output_type": "stream",
     "text": [
      "C:\\Users\\manpe\\AppData\\Local\\Temp\\ipykernel_35084\\823683013.py:11: SettingWithCopyWarning: \n",
      "A value is trying to be set on a copy of a slice from a DataFrame.\n",
      "Try using .loc[row_indexer,col_indexer] = value instead\n",
      "\n",
      "See the caveats in the documentation: https://pandas.pydata.org/pandas-docs/stable/user_guide/indexing.html#returning-a-view-versus-a-copy\n",
      "  ma_ligne[\"ratio_homme\"] = 0\n",
      "C:\\Users\\manpe\\AppData\\Local\\Temp\\ipykernel_35084\\823683013.py:12: SettingWithCopyWarning: \n",
      "A value is trying to be set on a copy of a slice from a DataFrame.\n",
      "Try using .loc[row_indexer,col_indexer] = value instead\n",
      "\n",
      "See the caveats in the documentation: https://pandas.pydata.org/pandas-docs/stable/user_guide/indexing.html#returning-a-view-versus-a-copy\n",
      "  ma_ligne[\"ratio_homme\"] = 1\n",
      "C:\\Users\\manpe\\AppData\\Local\\Temp\\ipykernel_35084\\823683013.py:19: SettingWithCopyWarning: \n",
      "A value is trying to be set on a copy of a slice from a DataFrame.\n",
      "Try using .loc[row_indexer,col_indexer] = value instead\n",
      "\n",
      "See the caveats in the documentation: https://pandas.pydata.org/pandas-docs/stable/user_guide/indexing.html#returning-a-view-versus-a-copy\n",
      "  ma_ligne['ratio_enfant']=0\n",
      "C:\\Users\\manpe\\AppData\\Local\\Temp\\ipykernel_35084\\823683013.py:20: SettingWithCopyWarning: \n",
      "A value is trying to be set on a copy of a slice from a DataFrame.\n",
      "Try using .loc[row_indexer,col_indexer] = value instead\n",
      "\n",
      "See the caveats in the documentation: https://pandas.pydata.org/pandas-docs/stable/user_guide/indexing.html#returning-a-view-versus-a-copy\n",
      "  ma_ligne['ratio_jeune_actif']=0\n",
      "C:\\Users\\manpe\\AppData\\Local\\Temp\\ipykernel_35084\\823683013.py:21: SettingWithCopyWarning: \n",
      "A value is trying to be set on a copy of a slice from a DataFrame.\n",
      "Try using .loc[row_indexer,col_indexer] = value instead\n",
      "\n",
      "See the caveats in the documentation: https://pandas.pydata.org/pandas-docs/stable/user_guide/indexing.html#returning-a-view-versus-a-copy\n",
      "  ma_ligne['ratio_actif']=0\n",
      "C:\\Users\\manpe\\AppData\\Local\\Temp\\ipykernel_35084\\823683013.py:22: SettingWithCopyWarning: \n",
      "A value is trying to be set on a copy of a slice from a DataFrame.\n",
      "Try using .loc[row_indexer,col_indexer] = value instead\n",
      "\n",
      "See the caveats in the documentation: https://pandas.pydata.org/pandas-docs/stable/user_guide/indexing.html#returning-a-view-versus-a-copy\n",
      "  ma_ligne['ratio_senior_actif']=0\n",
      "C:\\Users\\manpe\\AppData\\Local\\Temp\\ipykernel_35084\\823683013.py:23: SettingWithCopyWarning: \n",
      "A value is trying to be set on a copy of a slice from a DataFrame.\n",
      "Try using .loc[row_indexer,col_indexer] = value instead\n",
      "\n",
      "See the caveats in the documentation: https://pandas.pydata.org/pandas-docs/stable/user_guide/indexing.html#returning-a-view-versus-a-copy\n",
      "  ma_ligne['ratio_senior']=0\n",
      "C:\\Users\\manpe\\AppData\\Local\\Temp\\ipykernel_35084\\823683013.py:24: SettingWithCopyWarning: \n",
      "A value is trying to be set on a copy of a slice from a DataFrame.\n",
      "Try using .loc[row_indexer,col_indexer] = value instead\n",
      "\n",
      "See the caveats in the documentation: https://pandas.pydata.org/pandas-docs/stable/user_guide/indexing.html#returning-a-view-versus-a-copy\n",
      "  ma_ligne[\"age_moyen\"]=age\n",
      "C:\\Users\\manpe\\AppData\\Local\\Temp\\ipykernel_35084\\823683013.py:30: SettingWithCopyWarning: \n",
      "A value is trying to be set on a copy of a slice from a DataFrame.\n",
      "Try using .loc[row_indexer,col_indexer] = value instead\n",
      "\n",
      "See the caveats in the documentation: https://pandas.pydata.org/pandas-docs/stable/user_guide/indexing.html#returning-a-view-versus-a-copy\n",
      "  ma_ligne['ratio_actif']=1\n",
      "C:\\Users\\manpe\\AppData\\Local\\Temp\\ipykernel_35084\\823683013.py:37: SettingWithCopyWarning: \n",
      "A value is trying to be set on a copy of a slice from a DataFrame.\n",
      "Try using .loc[row_indexer,col_indexer] = value instead\n",
      "\n",
      "See the caveats in the documentation: https://pandas.pydata.org/pandas-docs/stable/user_guide/indexing.html#returning-a-view-versus-a-copy\n",
      "  ma_ligne[\"proportion de cadres\"]=1\n"
     ]
    }
   ],
   "source": [
    "#DONNEES DE LA PERSONNE\n",
    "commune = \"Castres\"\n",
    "genre = \"F\"\n",
    "age = 38\n",
    "cadre = True\n",
    "ma_ligne = df_debase.loc[df_debase[\"nom_commune\"]==commune]\n",
    "\n",
    "#traitement du genre\n",
    "if genre != \"\":\n",
    "    if genre == \"F\" :\n",
    "        ma_ligne[\"ratio_homme\"] = 0\n",
    "        ma_ligne[\"ratio_homme\"] = 1\n",
    "    elif genre ==\"H\":\n",
    "        ma_ligne[\"ratio_femme\"]=0\n",
    "        ma_ligne[\"ratio_homme\"] = 1\n",
    "    \n",
    "#traitement de l'age\n",
    "if age != \"\" :\n",
    "    ma_ligne['ratio_enfant']=0\n",
    "    ma_ligne['ratio_jeune_actif']=0\n",
    "    ma_ligne['ratio_actif']=0\n",
    "    ma_ligne['ratio_senior_actif']=0\n",
    "    ma_ligne['ratio_senior']=0\n",
    "    ma_ligne[\"age_moyen\"]=age\n",
    "    if age < 18:\n",
    "        ma_ligne['ratio_enfant']=1\n",
    "    elif age <= 35:\n",
    "        ma_ligne['ratio_jeune_actif']=1\n",
    "    elif age <= 55:\n",
    "        ma_ligne['ratio_actif']=1\n",
    "    elif age <= 60:\n",
    "        ma_ligne['ratio_senior']=1\n",
    "    else:\n",
    "        ma_ligne['ratio_senior']=1\n",
    "\n",
    "if cadre == True :\n",
    "    ma_ligne[\"proportion de cadres\"]=1\n",
    "\n",
    "ma_ligne=ma_ligne.drop([\"nom_commune\",\"CODGEO\"],axis=1)    \n",
    "X = pd.concat([X, ma_ligne], ignore_index=True)\n",
    "\n",
    "scaler = StandardScaler()\n",
    "X_scaled_predict = scaler.fit_transform(X)\n",
    "ma_ligne = X_scaled_predict[-1]"
   ]
  },
  {
   "cell_type": "code",
   "execution_count": 54,
   "id": "8502731d",
   "metadata": {},
   "outputs": [
    {
     "name": "stderr",
     "output_type": "stream",
     "text": [
      "C:\\Users\\manpe\\AppData\\Local\\Temp\\ipykernel_35084\\2405991503.py:9: SettingWithCopyWarning: \n",
      "A value is trying to be set on a copy of a slice from a DataFrame.\n",
      "Try using .loc[row_indexer,col_indexer] = value instead\n",
      "\n",
      "See the caveats in the documentation: https://pandas.pydata.org/pandas-docs/stable/user_guide/indexing.html#returning-a-view-versus-a-copy\n",
      "  ma_ligne[\"age_moyen\"]=age\n"
     ]
    }
   ],
   "source": [
    "X=df.drop('salaire_moyen', axis=1) \n",
    "#DONNEES DE LA PERSONNE\n",
    "commune = \"Issy-les-Moulineaux\"\n",
    "genre = \"F\"\n",
    "age = 38\n",
    "cadre = False\n",
    "ma_ligne = df_debase.loc[df_debase[\"nom_commune\"]==commune]\n",
    " \n",
    "ma_ligne[\"age_moyen\"]=age\n",
    "\n",
    "#if cadre == True :\n",
    "#    ma_ligne[\"proportion de cadres\"]=0.145967\n",
    "#if cadre == False :\n",
    "#    ma_ligne[\"proportion de cadres\"]=0\n",
    "    \n",
    "ma_ligne=ma_ligne.drop([\"nom_commune\",\"CODGEO\"],axis=1)    \n",
    "X = pd.concat([X, ma_ligne], ignore_index=True)\n",
    "\n",
    "scaler = StandardScaler()\n",
    "X_scaled_predict = scaler.fit_transform(X)\n",
    "ma_ligne = X_scaled_predict[-1]"
   ]
  },
  {
   "cell_type": "code",
   "execution_count": 50,
   "id": "75685e74",
   "metadata": {},
   "outputs": [
    {
     "name": "stderr",
     "output_type": "stream",
     "text": [
      "C:\\Users\\manpe\\AppData\\Local\\Temp\\ipykernel_35084\\3708302189.py:11: SettingWithCopyWarning: \n",
      "A value is trying to be set on a copy of a slice from a DataFrame.\n",
      "Try using .loc[row_indexer,col_indexer] = value instead\n",
      "\n",
      "See the caveats in the documentation: https://pandas.pydata.org/pandas-docs/stable/user_guide/indexing.html#returning-a-view-versus-a-copy\n",
      "  ma_ligne[\"ratio_homme\"] = 0\n",
      "C:\\Users\\manpe\\AppData\\Local\\Temp\\ipykernel_35084\\3708302189.py:12: SettingWithCopyWarning: \n",
      "A value is trying to be set on a copy of a slice from a DataFrame.\n",
      "Try using .loc[row_indexer,col_indexer] = value instead\n",
      "\n",
      "See the caveats in the documentation: https://pandas.pydata.org/pandas-docs/stable/user_guide/indexing.html#returning-a-view-versus-a-copy\n",
      "  ma_ligne[\"ratio_homme\"] = 1\n",
      "C:\\Users\\manpe\\AppData\\Local\\Temp\\ipykernel_35084\\3708302189.py:19: SettingWithCopyWarning: \n",
      "A value is trying to be set on a copy of a slice from a DataFrame.\n",
      "Try using .loc[row_indexer,col_indexer] = value instead\n",
      "\n",
      "See the caveats in the documentation: https://pandas.pydata.org/pandas-docs/stable/user_guide/indexing.html#returning-a-view-versus-a-copy\n",
      "  ma_ligne['ratio_enfant']=0\n",
      "C:\\Users\\manpe\\AppData\\Local\\Temp\\ipykernel_35084\\3708302189.py:20: SettingWithCopyWarning: \n",
      "A value is trying to be set on a copy of a slice from a DataFrame.\n",
      "Try using .loc[row_indexer,col_indexer] = value instead\n",
      "\n",
      "See the caveats in the documentation: https://pandas.pydata.org/pandas-docs/stable/user_guide/indexing.html#returning-a-view-versus-a-copy\n",
      "  ma_ligne['ratio_jeune_actif']=0\n",
      "C:\\Users\\manpe\\AppData\\Local\\Temp\\ipykernel_35084\\3708302189.py:21: SettingWithCopyWarning: \n",
      "A value is trying to be set on a copy of a slice from a DataFrame.\n",
      "Try using .loc[row_indexer,col_indexer] = value instead\n",
      "\n",
      "See the caveats in the documentation: https://pandas.pydata.org/pandas-docs/stable/user_guide/indexing.html#returning-a-view-versus-a-copy\n",
      "  ma_ligne['ratio_actif']=0\n",
      "C:\\Users\\manpe\\AppData\\Local\\Temp\\ipykernel_35084\\3708302189.py:22: SettingWithCopyWarning: \n",
      "A value is trying to be set on a copy of a slice from a DataFrame.\n",
      "Try using .loc[row_indexer,col_indexer] = value instead\n",
      "\n",
      "See the caveats in the documentation: https://pandas.pydata.org/pandas-docs/stable/user_guide/indexing.html#returning-a-view-versus-a-copy\n",
      "  ma_ligne['ratio_senior_actif']=0\n",
      "C:\\Users\\manpe\\AppData\\Local\\Temp\\ipykernel_35084\\3708302189.py:23: SettingWithCopyWarning: \n",
      "A value is trying to be set on a copy of a slice from a DataFrame.\n",
      "Try using .loc[row_indexer,col_indexer] = value instead\n",
      "\n",
      "See the caveats in the documentation: https://pandas.pydata.org/pandas-docs/stable/user_guide/indexing.html#returning-a-view-versus-a-copy\n",
      "  ma_ligne['ratio_senior']=0\n",
      "C:\\Users\\manpe\\AppData\\Local\\Temp\\ipykernel_35084\\3708302189.py:24: SettingWithCopyWarning: \n",
      "A value is trying to be set on a copy of a slice from a DataFrame.\n",
      "Try using .loc[row_indexer,col_indexer] = value instead\n",
      "\n",
      "See the caveats in the documentation: https://pandas.pydata.org/pandas-docs/stable/user_guide/indexing.html#returning-a-view-versus-a-copy\n",
      "  ma_ligne[\"age_moyen\"]=age\n",
      "C:\\Users\\manpe\\AppData\\Local\\Temp\\ipykernel_35084\\3708302189.py:30: SettingWithCopyWarning: \n",
      "A value is trying to be set on a copy of a slice from a DataFrame.\n",
      "Try using .loc[row_indexer,col_indexer] = value instead\n",
      "\n",
      "See the caveats in the documentation: https://pandas.pydata.org/pandas-docs/stable/user_guide/indexing.html#returning-a-view-versus-a-copy\n",
      "  ma_ligne['ratio_actif']=1\n",
      "C:\\Users\\manpe\\AppData\\Local\\Temp\\ipykernel_35084\\3708302189.py:37: SettingWithCopyWarning: \n",
      "A value is trying to be set on a copy of a slice from a DataFrame.\n",
      "Try using .loc[row_indexer,col_indexer] = value instead\n",
      "\n",
      "See the caveats in the documentation: https://pandas.pydata.org/pandas-docs/stable/user_guide/indexing.html#returning-a-view-versus-a-copy\n",
      "  ma_ligne[\"proportion de cadres\"]=1\n"
     ]
    }
   ],
   "source": [
    "#DONNEES DE LA PERSONNE\n",
    "commune = \"Castres\"\n",
    "genre = \"F\"\n",
    "age = 38\n",
    "cadre = True\n",
    "ma_ligne = df_debase.loc[df_debase[\"nom_commune\"]==commune]\n",
    "\n",
    "#traitement du genre\n",
    "if genre != \"\":\n",
    "    if genre == \"F\" :\n",
    "        ma_ligne[\"ratio_homme\"] = 0\n",
    "        ma_ligne[\"ratio_homme\"] = 1\n",
    "    elif genre ==\"H\":\n",
    "        ma_ligne[\"ratio_femme\"]=0\n",
    "        ma_ligne[\"ratio_homme\"] = 1\n",
    "    \n",
    "#traitement de l'age\n",
    "if age != \"\" :\n",
    "    ma_ligne['ratio_enfant']=0\n",
    "    ma_ligne['ratio_jeune_actif']=0\n",
    "    ma_ligne['ratio_actif']=0\n",
    "    ma_ligne['ratio_senior_actif']=0\n",
    "    ma_ligne['ratio_senior']=0\n",
    "    ma_ligne[\"age_moyen\"]=age\n",
    "    if age < 18:\n",
    "        ma_ligne['ratio_enfant']=1\n",
    "    elif age <= 35:\n",
    "        ma_ligne['ratio_jeune_actif']=1\n",
    "    elif age <= 55:\n",
    "        ma_ligne['ratio_actif']=1\n",
    "    elif age <= 60:\n",
    "        ma_ligne['ratio_senior']=1\n",
    "    else:\n",
    "        ma_ligne['ratio_senior']=1\n",
    "\n",
    "if cadre == True :\n",
    "    ma_ligne[\"proportion de cadres\"]=1\n",
    "\n",
    "#traitement du poste\n",
    "\n",
    "ma_ligne=ma_ligne.iloc[0, 2:].values"
   ]
  },
  {
   "cell_type": "code",
   "execution_count": 56,
   "id": "7c7d88b9",
   "metadata": {},
   "outputs": [
    {
     "data": {
      "text/plain": [
       "23.627862985686185"
      ]
     },
     "execution_count": 56,
     "metadata": {},
     "output_type": "execute_result"
    }
   ],
   "source": [
    "#JOUER LA PREDICTION\n",
    "caracteristiques = [ma_ligne]\n",
    "\n",
    "# Prévoir la classe avec le modèle\n",
    "modele = charger_modele()\n",
    "prediction = modele.predict(caracteristiques)\n",
    "prediction[0]"
   ]
  }
 ],
 "metadata": {
  "kernelspec": {
   "display_name": "Python 3 (ipykernel)",
   "language": "python",
   "name": "python3"
  },
  "language_info": {
   "codemirror_mode": {
    "name": "ipython",
    "version": 3
   },
   "file_extension": ".py",
   "mimetype": "text/x-python",
   "name": "python",
   "nbconvert_exporter": "python",
   "pygments_lexer": "ipython3",
   "version": "3.11.5"
  }
 },
 "nbformat": 4,
 "nbformat_minor": 5
}
