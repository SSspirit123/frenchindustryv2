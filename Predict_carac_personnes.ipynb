{
 "cells": [
  {
   "cell_type": "code",
   "execution_count": 9,
   "id": "70a7c6c9",
   "metadata": {},
   "outputs": [],
   "source": [
    "#import du df\n",
    "import pandas as pd\n",
    "import numpy as np\n",
    "df=pd.read_csv(\"df_full_full_catpos.csv\")\n",
    "df.drop_duplicates(inplace=True)"
   ]
  },
  {
   "cell_type": "code",
   "execution_count": 10,
   "id": "95f3c3e2",
   "metadata": {},
   "outputs": [],
   "source": [
    "#transfo\n",
    "df_debase = df\n",
    "df_debase = df_debase.drop(['nom_DEP','nom_REG','salaire_moyen'],axis=1)\n",
    "df=df.drop(['CODGEO', 'LIBGEO',\"nom_REG\", 'nom_DEP'],axis=1)"
   ]
  },
  {
   "cell_type": "code",
   "execution_count": 11,
   "id": "6efff684",
   "metadata": {},
   "outputs": [],
   "source": [
    "#création des ensembles\n",
    "X = df.drop('salaire_moyen', axis=1) \n",
    "y = df['salaire_moyen']"
   ]
  },
  {
   "cell_type": "code",
   "execution_count": 12,
   "id": "f204eee1",
   "metadata": {},
   "outputs": [
    {
     "data": {
      "text/html": [
       "<style>#sk-container-id-2 {color: black;}#sk-container-id-2 pre{padding: 0;}#sk-container-id-2 div.sk-toggleable {background-color: white;}#sk-container-id-2 label.sk-toggleable__label {cursor: pointer;display: block;width: 100%;margin-bottom: 0;padding: 0.3em;box-sizing: border-box;text-align: center;}#sk-container-id-2 label.sk-toggleable__label-arrow:before {content: \"▸\";float: left;margin-right: 0.25em;color: #696969;}#sk-container-id-2 label.sk-toggleable__label-arrow:hover:before {color: black;}#sk-container-id-2 div.sk-estimator:hover label.sk-toggleable__label-arrow:before {color: black;}#sk-container-id-2 div.sk-toggleable__content {max-height: 0;max-width: 0;overflow: hidden;text-align: left;background-color: #f0f8ff;}#sk-container-id-2 div.sk-toggleable__content pre {margin: 0.2em;color: black;border-radius: 0.25em;background-color: #f0f8ff;}#sk-container-id-2 input.sk-toggleable__control:checked~div.sk-toggleable__content {max-height: 200px;max-width: 100%;overflow: auto;}#sk-container-id-2 input.sk-toggleable__control:checked~label.sk-toggleable__label-arrow:before {content: \"▾\";}#sk-container-id-2 div.sk-estimator input.sk-toggleable__control:checked~label.sk-toggleable__label {background-color: #d4ebff;}#sk-container-id-2 div.sk-label input.sk-toggleable__control:checked~label.sk-toggleable__label {background-color: #d4ebff;}#sk-container-id-2 input.sk-hidden--visually {border: 0;clip: rect(1px 1px 1px 1px);clip: rect(1px, 1px, 1px, 1px);height: 1px;margin: -1px;overflow: hidden;padding: 0;position: absolute;width: 1px;}#sk-container-id-2 div.sk-estimator {font-family: monospace;background-color: #f0f8ff;border: 1px dotted black;border-radius: 0.25em;box-sizing: border-box;margin-bottom: 0.5em;}#sk-container-id-2 div.sk-estimator:hover {background-color: #d4ebff;}#sk-container-id-2 div.sk-parallel-item::after {content: \"\";width: 100%;border-bottom: 1px solid gray;flex-grow: 1;}#sk-container-id-2 div.sk-label:hover label.sk-toggleable__label {background-color: #d4ebff;}#sk-container-id-2 div.sk-serial::before {content: \"\";position: absolute;border-left: 1px solid gray;box-sizing: border-box;top: 0;bottom: 0;left: 50%;z-index: 0;}#sk-container-id-2 div.sk-serial {display: flex;flex-direction: column;align-items: center;background-color: white;padding-right: 0.2em;padding-left: 0.2em;position: relative;}#sk-container-id-2 div.sk-item {position: relative;z-index: 1;}#sk-container-id-2 div.sk-parallel {display: flex;align-items: stretch;justify-content: center;background-color: white;position: relative;}#sk-container-id-2 div.sk-item::before, #sk-container-id-2 div.sk-parallel-item::before {content: \"\";position: absolute;border-left: 1px solid gray;box-sizing: border-box;top: 0;bottom: 0;left: 50%;z-index: -1;}#sk-container-id-2 div.sk-parallel-item {display: flex;flex-direction: column;z-index: 1;position: relative;background-color: white;}#sk-container-id-2 div.sk-parallel-item:first-child::after {align-self: flex-end;width: 50%;}#sk-container-id-2 div.sk-parallel-item:last-child::after {align-self: flex-start;width: 50%;}#sk-container-id-2 div.sk-parallel-item:only-child::after {width: 0;}#sk-container-id-2 div.sk-dashed-wrapped {border: 1px dashed gray;margin: 0 0.4em 0.5em 0.4em;box-sizing: border-box;padding-bottom: 0.4em;background-color: white;}#sk-container-id-2 div.sk-label label {font-family: monospace;font-weight: bold;display: inline-block;line-height: 1.2em;}#sk-container-id-2 div.sk-label-container {text-align: center;}#sk-container-id-2 div.sk-container {/* jupyter's `normalize.less` sets `[hidden] { display: none; }` but bootstrap.min.css set `[hidden] { display: none !important; }` so we also need the `!important` here to be able to override the default hidden behavior on the sphinx rendered scikit-learn.org. See: https://github.com/scikit-learn/scikit-learn/issues/21755 */display: inline-block !important;position: relative;}#sk-container-id-2 div.sk-text-repr-fallback {display: none;}</style><div id=\"sk-container-id-2\" class=\"sk-top-container\"><div class=\"sk-text-repr-fallback\"><pre>SVR(C=10)</pre><b>In a Jupyter environment, please rerun this cell to show the HTML representation or trust the notebook. <br />On GitHub, the HTML representation is unable to render, please try loading this page with nbviewer.org.</b></div><div class=\"sk-container\" hidden><div class=\"sk-item\"><div class=\"sk-estimator sk-toggleable\"><input class=\"sk-toggleable__control sk-hidden--visually\" id=\"sk-estimator-id-2\" type=\"checkbox\" checked><label for=\"sk-estimator-id-2\" class=\"sk-toggleable__label sk-toggleable__label-arrow\">SVR</label><div class=\"sk-toggleable__content\"><pre>SVR(C=10)</pre></div></div></div></div></div>"
      ],
      "text/plain": [
       "SVR(C=10)"
      ]
     },
     "execution_count": 12,
     "metadata": {},
     "output_type": "execute_result"
    }
   ],
   "source": [
    "#ENREGISTRER MON MODELE\n",
    "from sklearn.model_selection import train_test_split\n",
    "from sklearn.preprocessing import StandardScaler\n",
    "from sklearn.svm import SVR\n",
    "\n",
    "# Charger le jeu de données des iris\n",
    "X_train, X_test, y_train, y_test = train_test_split(X, y, test_size=0.25, random_state=32)\n",
    "\n",
    "scaler = StandardScaler()\n",
    "X_train_scaled = scaler.fit_transform(X_train)\n",
    "                                                    \n",
    "# Initialiser et entraîner le modèle\n",
    "svr = SVR(kernel='rbf', C=10, gamma='scale')\n",
    "svr.fit(X_train_scaled, y_train)"
   ]
  },
  {
   "cell_type": "code",
   "execution_count": 13,
   "id": "8264a4a4",
   "metadata": {},
   "outputs": [],
   "source": [
    "#SAUVEGARDER LE MODELE DANS UN FICHIER\n",
    "import pickle\n",
    "\n",
    "# Sauvegarder le modèle dans un fichier\n",
    "with open('modele.pkl', 'wb') as fichier_modele:\n",
    "    pickle.dump(svr, fichier_modele)"
   ]
  },
  {
   "cell_type": "code",
   "execution_count": 14,
   "id": "d14094dd",
   "metadata": {},
   "outputs": [],
   "source": [
    "#CHARGER LE MODELE\n",
    "def charger_modele():\n",
    "    # Charger le modèle à partir du fichier Pickle\n",
    "    with open('modele.pkl', 'rb') as fichier_modele:\n",
    "        modele = pickle.load(fichier_modele)\n",
    "    return modele"
   ]
  },
  {
   "cell_type": "code",
   "execution_count": 58,
   "id": "5687e45b",
   "metadata": {},
   "outputs": [],
   "source": [
    "X=df.drop('salaire_moyen', axis=1) \n",
    "#DONNEES DE LA PERSONNE\n",
    "commune = \"Issy-les-Moulineaux\"\n",
    "genre = \"F\"\n",
    "cat_poste = 3\n",
    "ma_ligne = df_debase.loc[df_debase[\"LIBGEO\"]==commune].iloc[[0]]\n",
    "\n",
    "if genre == \"H\" :\n",
    "    ma_ligne[\"genre\"]=1\n",
    "if genre == \"F\" :\n",
    "    ma_ligne[\"genre\"]=2\n",
    "\n",
    "if cat_poste == 4 : #cadre sup\n",
    "    ma_ligne[\"cat_poste\"]=4\n",
    "if cat_poste == 3 : #cadre\n",
    "    ma_ligne[\"cat_poste\"]=3\n",
    "if cat_poste == 2 : #travailleur\n",
    "    ma_ligne[\"cat_poste\"]=2\n",
    "if cat_poste == 1 : #ouvrier\n",
    "    ma_ligne[\"cat_poste\"]=1\n",
    "    \n",
    "ma_ligne=ma_ligne.drop([\"LIBGEO\",\"CODGEO\"],axis=1)    \n",
    "X = pd.concat([X, ma_ligne], ignore_index=True)\n",
    "\n",
    "scaler = StandardScaler()\n",
    "X_scaled_predict = scaler.fit_transform(X)\n",
    "ma_ligne = X_scaled_predict[-1]"
   ]
  },
  {
   "cell_type": "code",
   "execution_count": 59,
   "id": "89973a71",
   "metadata": {},
   "outputs": [
    {
     "data": {
      "text/plain": [
       "2689.2438894828483"
      ]
     },
     "execution_count": 59,
     "metadata": {},
     "output_type": "execute_result"
    }
   ],
   "source": [
    "#JOUER LA PREDICTION\n",
    "caracteristiques = [ma_ligne]\n",
    "\n",
    "# Prévoir la classe avec le modèle\n",
    "modele = charger_modele()\n",
    "prediction = modele.predict(caracteristiques)\n",
    "prediction[0]*4.5*35"
   ]
  }
 ],
 "metadata": {
  "kernelspec": {
   "display_name": "Python 3 (ipykernel)",
   "language": "python",
   "name": "python3"
  },
  "language_info": {
   "codemirror_mode": {
    "name": "ipython",
    "version": 3
   },
   "file_extension": ".py",
   "mimetype": "text/x-python",
   "name": "python",
   "nbconvert_exporter": "python",
   "pygments_lexer": "ipython3",
   "version": "3.11.5"
  }
 },
 "nbformat": 4,
 "nbformat_minor": 5
}
